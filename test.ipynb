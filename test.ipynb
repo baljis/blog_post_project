{
 "cells": [
  {
   "cell_type": "markdown",
   "id": "8d3fc799-ab78-4ce7-8444-2b7c1031aa54",
   "metadata": {},
   "source": [
    "<h1>Buisness Understanding</h1>"
   ]
  },
  {
   "cell_type": "code",
   "execution_count": 157,
   "id": "6cb4b04b-173b-461e-80b5-6b664e320b25",
   "metadata": {},
   "outputs": [],
   "source": [
    "import numpy as np\n",
    "import pandas as pd\n",
    "import matplotlib.pyplot as plt\n",
    "import seaborn as sns\n",
    "from sklearn.linear_model import LinearRegression\n",
    "from sklearn.model_selection import train_test_split\n",
    "from sklearn.metrics import r2_score, mean_squared_error\n",
    "%matplotlib inline\n",
    "\n",
    "df_public = pd.read_csv('./stack-overflow-survey-2020/survey_results_public.csv')\n",
    "df_schema = pd.read_csv('./stack-overflow-survey-2020/survey_results_schema.csv')"
   ]
  },
  {
   "cell_type": "code",
   "execution_count": 40,
   "id": "27fcaeb7-9ea6-43f6-9fef-de858f791dd7",
   "metadata": {},
   "outputs": [
    {
     "data": {
      "text/plain": [
       "(64461, 61)"
      ]
     },
     "execution_count": 40,
     "metadata": {},
     "output_type": "execute_result"
    }
   ],
   "source": [
    "df_public.shape"
   ]
  },
  {
   "cell_type": "code",
   "execution_count": 41,
   "id": "e1c225a7-0ae6-48be-a1b9-f0eaf13af0cb",
   "metadata": {
    "tags": []
   },
   "outputs": [
    {
     "name": "stdout",
     "output_type": "stream",
     "text": [
      "<class 'pandas.core.frame.DataFrame'>\n",
      "RangeIndex: 64461 entries, 0 to 64460\n",
      "Data columns (total 61 columns):\n",
      " #   Column                        Non-Null Count  Dtype  \n",
      "---  ------                        --------------  -----  \n",
      " 0   Respondent                    64461 non-null  int64  \n",
      " 1   MainBranch                    64162 non-null  object \n",
      " 2   Hobbyist                      64416 non-null  object \n",
      " 3   Age                           45446 non-null  float64\n",
      " 4   Age1stCode                    57900 non-null  object \n",
      " 5   CompFreq                      40069 non-null  object \n",
      " 6   CompTotal                     34826 non-null  float64\n",
      " 7   ConvertedComp                 34756 non-null  float64\n",
      " 8   Country                       64072 non-null  object \n",
      " 9   CurrencyDesc                  45472 non-null  object \n",
      " 10  CurrencySymbol                45472 non-null  object \n",
      " 11  DatabaseDesireNextYear        44070 non-null  object \n",
      " 12  DatabaseWorkedWith            49537 non-null  object \n",
      " 13  DevType                       49370 non-null  object \n",
      " 14  EdLevel                       57431 non-null  object \n",
      " 15  Employment                    63854 non-null  object \n",
      " 16  Ethnicity                     45948 non-null  object \n",
      " 17  Gender                        50557 non-null  object \n",
      " 18  JobFactors                    49349 non-null  object \n",
      " 19  JobSat                        45194 non-null  object \n",
      " 20  JobSeek                       51727 non-null  object \n",
      " 21  LanguageDesireNextYear        54113 non-null  object \n",
      " 22  LanguageWorkedWith            57378 non-null  object \n",
      " 23  MiscTechDesireNextYear        42379 non-null  object \n",
      " 24  MiscTechWorkedWith            40314 non-null  object \n",
      " 25  NEWCollabToolsDesireNextYear  47287 non-null  object \n",
      " 26  NEWCollabToolsWorkedWith      52883 non-null  object \n",
      " 27  NEWDevOps                     42686 non-null  object \n",
      " 28  NEWDevOpsImpt                 41732 non-null  object \n",
      " 29  NEWEdImpt                     48465 non-null  object \n",
      " 30  NEWJobHunt                    42286 non-null  object \n",
      " 31  NEWJobHuntResearch            41022 non-null  object \n",
      " 32  NEWLearn                      56156 non-null  object \n",
      " 33  NEWOffTopic                   50804 non-null  object \n",
      " 34  NEWOnboardGood                42623 non-null  object \n",
      " 35  NEWOtherComms                 57205 non-null  object \n",
      " 36  NEWOvertime                   43231 non-null  object \n",
      " 37  NEWPurchaseResearch           37321 non-null  object \n",
      " 38  NEWPurpleLink                 54803 non-null  object \n",
      " 39  NEWSOSites                    58275 non-null  object \n",
      " 40  NEWStuck                      54983 non-null  object \n",
      " 41  OpSys                         56228 non-null  object \n",
      " 42  OrgSize                       44334 non-null  object \n",
      " 43  PlatformDesireNextYear        50605 non-null  object \n",
      " 44  PlatformWorkedWith            53843 non-null  object \n",
      " 45  PurchaseWhat                  39364 non-null  object \n",
      " 46  Sexuality                     43992 non-null  object \n",
      " 47  SOAccount                     56805 non-null  object \n",
      " 48  SOComm                        56476 non-null  object \n",
      " 49  SOPartFreq                    46792 non-null  object \n",
      " 50  SOVisitFreq                   56970 non-null  object \n",
      " 51  SurveyEase                    51802 non-null  object \n",
      " 52  SurveyLength                  51701 non-null  object \n",
      " 53  Trans                         49345 non-null  object \n",
      " 54  UndergradMajor                50995 non-null  object \n",
      " 55  WebframeDesireNextYear        40024 non-null  object \n",
      " 56  WebframeWorkedWith            42279 non-null  object \n",
      " 57  WelcomeChange                 52683 non-null  object \n",
      " 58  WorkWeekHrs                   41151 non-null  float64\n",
      " 59  YearsCode                     57684 non-null  object \n",
      " 60  YearsCodePro                  46349 non-null  object \n",
      "dtypes: float64(4), int64(1), object(56)\n",
      "memory usage: 30.0+ MB\n"
     ]
    }
   ],
   "source": [
    "df_public.info()"
   ]
  },
  {
   "cell_type": "code",
   "execution_count": 269,
   "id": "a77906a0-dba9-4a38-bfd4-8fad91f81288",
   "metadata": {},
   "outputs": [
    {
     "data": {
      "text/plain": [
       "'In general, what drives you to look for a new job? Select all that apply.'"
      ]
     },
     "execution_count": 269,
     "metadata": {},
     "output_type": "execute_result"
    }
   ],
   "source": [
    "list(df_schema[df_schema.Column == 'NEWJobHunt'].QuestionText)[0]"
   ]
  },
  {
   "cell_type": "code",
   "execution_count": 272,
   "id": "9ef06646-89b9-40e4-9a61-815043153d57",
   "metadata": {},
   "outputs": [
    {
     "data": {
      "text/plain": [
       "Curious about other opportunities;Better compensation;Wanting to work with new technologies;Growth or leadership opportunities                                                                                                                             1127\n",
       "Curious about other opportunities;Better compensation;Better work/life balance;Wanting to work with new technologies;Growth or leadership opportunities                                                                                                    1121\n",
       "Better compensation                                                                                                                                                                                                                                         803\n",
       "Curious about other opportunities;Better compensation;Wanting to work with new technologies                                                                                                                                                                 717\n",
       "Better compensation;Better work/life balance;Wanting to work with new technologies;Growth or leadership opportunities                                                                                                                                       662\n",
       "                                                                                                                                                                                                                                                           ... \n",
       "Wanting to share accomplishments with a wider network;Curious about other opportunities;Better compensation;Trouble with my teammates;Wanting to work with new technologies                                                                                   1\n",
       "Just because;Having a bad day (or week or month) at work;Curious about other opportunities;Better compensation;Trouble with my teammates;Trouble with my direct manager;Better work/life balance;Growth or leadership opportunities;Looking to relocate       1\n",
       "Having a bad day (or week or month) at work;Trouble with my teammates;Trouble with my direct manager;Better work/life balance;Wanting to work with new technologies                                                                                           1\n",
       "Having a bad day (or week or month) at work;Wanting to share accomplishments with a wider network;Better work/life balance;Wanting to work with new technologies;Looking to relocate                                                                          1\n",
       "Having a bad day (or week or month) at work;Wanting to share accomplishments with a wider network;Trouble with my teammates;Trouble with my direct manager;Trouble with leadership at my company;Growth or leadership opportunities;Looking to relocate       1\n",
       "Name: NEWJobHunt, Length: 2172, dtype: int64"
      ]
     },
     "execution_count": 272,
     "metadata": {},
     "output_type": "execute_result"
    }
   ],
   "source": [
    "jobfactor = df_public['NEWJobHunt'].value_counts()\n",
    "jobfactor"
   ]
  },
  {
   "cell_type": "code",
   "execution_count": 256,
   "id": "38e122f7-b896-4b7a-bd26-e4ad126aa911",
   "metadata": {},
   "outputs": [
    {
     "ename": "TypeError",
     "evalue": "'value' must be an instance of str or bytes, not a float",
     "output_type": "error",
     "traceback": [
      "\u001b[0;31m---------------------------------------------------------------------------\u001b[0m",
      "\u001b[0;31mTypeError\u001b[0m                                 Traceback (most recent call last)",
      "\u001b[0;32m/var/folders/vc/vbjd3wwd1sz6c34l4k1_93m80000gn/T/ipykernel_96419/3659561222.py\u001b[0m in \u001b[0;36m<module>\u001b[0;34m\u001b[0m\n\u001b[0;32m----> 1\u001b[0;31m \u001b[0mplt\u001b[0m\u001b[0;34m.\u001b[0m\u001b[0mplot\u001b[0m\u001b[0;34m(\u001b[0m\u001b[0mdf_public\u001b[0m\u001b[0;34m[\u001b[0m\u001b[0;34m'CurrencySymbol'\u001b[0m\u001b[0;34m]\u001b[0m\u001b[0;34m,\u001b[0m\u001b[0mdf_public\u001b[0m\u001b[0;34m[\u001b[0m\u001b[0;34m'CompTotal'\u001b[0m\u001b[0;34m]\u001b[0m\u001b[0;34m)\u001b[0m\u001b[0;34m\u001b[0m\u001b[0;34m\u001b[0m\u001b[0m\n\u001b[0m",
      "\u001b[0;32m~/opt/anaconda3/lib/python3.9/site-packages/matplotlib/pyplot.py\u001b[0m in \u001b[0;36mplot\u001b[0;34m(scalex, scaley, data, *args, **kwargs)\u001b[0m\n\u001b[1;32m   3017\u001b[0m \u001b[0;34m@\u001b[0m\u001b[0m_copy_docstring_and_deprecators\u001b[0m\u001b[0;34m(\u001b[0m\u001b[0mAxes\u001b[0m\u001b[0;34m.\u001b[0m\u001b[0mplot\u001b[0m\u001b[0;34m)\u001b[0m\u001b[0;34m\u001b[0m\u001b[0;34m\u001b[0m\u001b[0m\n\u001b[1;32m   3018\u001b[0m \u001b[0;32mdef\u001b[0m \u001b[0mplot\u001b[0m\u001b[0;34m(\u001b[0m\u001b[0;34m*\u001b[0m\u001b[0margs\u001b[0m\u001b[0;34m,\u001b[0m \u001b[0mscalex\u001b[0m\u001b[0;34m=\u001b[0m\u001b[0;32mTrue\u001b[0m\u001b[0;34m,\u001b[0m \u001b[0mscaley\u001b[0m\u001b[0;34m=\u001b[0m\u001b[0;32mTrue\u001b[0m\u001b[0;34m,\u001b[0m \u001b[0mdata\u001b[0m\u001b[0;34m=\u001b[0m\u001b[0;32mNone\u001b[0m\u001b[0;34m,\u001b[0m \u001b[0;34m**\u001b[0m\u001b[0mkwargs\u001b[0m\u001b[0;34m)\u001b[0m\u001b[0;34m:\u001b[0m\u001b[0;34m\u001b[0m\u001b[0;34m\u001b[0m\u001b[0m\n\u001b[0;32m-> 3019\u001b[0;31m     return gca().plot(\n\u001b[0m\u001b[1;32m   3020\u001b[0m         \u001b[0;34m*\u001b[0m\u001b[0margs\u001b[0m\u001b[0;34m,\u001b[0m \u001b[0mscalex\u001b[0m\u001b[0;34m=\u001b[0m\u001b[0mscalex\u001b[0m\u001b[0;34m,\u001b[0m \u001b[0mscaley\u001b[0m\u001b[0;34m=\u001b[0m\u001b[0mscaley\u001b[0m\u001b[0;34m,\u001b[0m\u001b[0;34m\u001b[0m\u001b[0;34m\u001b[0m\u001b[0m\n\u001b[1;32m   3021\u001b[0m         **({\"data\": data} if data is not None else {}), **kwargs)\n",
      "\u001b[0;32m~/opt/anaconda3/lib/python3.9/site-packages/matplotlib/axes/_axes.py\u001b[0m in \u001b[0;36mplot\u001b[0;34m(self, scalex, scaley, data, *args, **kwargs)\u001b[0m\n\u001b[1;32m   1603\u001b[0m         \"\"\"\n\u001b[1;32m   1604\u001b[0m         \u001b[0mkwargs\u001b[0m \u001b[0;34m=\u001b[0m \u001b[0mcbook\u001b[0m\u001b[0;34m.\u001b[0m\u001b[0mnormalize_kwargs\u001b[0m\u001b[0;34m(\u001b[0m\u001b[0mkwargs\u001b[0m\u001b[0;34m,\u001b[0m \u001b[0mmlines\u001b[0m\u001b[0;34m.\u001b[0m\u001b[0mLine2D\u001b[0m\u001b[0;34m)\u001b[0m\u001b[0;34m\u001b[0m\u001b[0;34m\u001b[0m\u001b[0m\n\u001b[0;32m-> 1605\u001b[0;31m         \u001b[0mlines\u001b[0m \u001b[0;34m=\u001b[0m \u001b[0;34m[\u001b[0m\u001b[0;34m*\u001b[0m\u001b[0mself\u001b[0m\u001b[0;34m.\u001b[0m\u001b[0m_get_lines\u001b[0m\u001b[0;34m(\u001b[0m\u001b[0;34m*\u001b[0m\u001b[0margs\u001b[0m\u001b[0;34m,\u001b[0m \u001b[0mdata\u001b[0m\u001b[0;34m=\u001b[0m\u001b[0mdata\u001b[0m\u001b[0;34m,\u001b[0m \u001b[0;34m**\u001b[0m\u001b[0mkwargs\u001b[0m\u001b[0;34m)\u001b[0m\u001b[0;34m]\u001b[0m\u001b[0;34m\u001b[0m\u001b[0;34m\u001b[0m\u001b[0m\n\u001b[0m\u001b[1;32m   1606\u001b[0m         \u001b[0;32mfor\u001b[0m \u001b[0mline\u001b[0m \u001b[0;32min\u001b[0m \u001b[0mlines\u001b[0m\u001b[0;34m:\u001b[0m\u001b[0;34m\u001b[0m\u001b[0;34m\u001b[0m\u001b[0m\n\u001b[1;32m   1607\u001b[0m             \u001b[0mself\u001b[0m\u001b[0;34m.\u001b[0m\u001b[0madd_line\u001b[0m\u001b[0;34m(\u001b[0m\u001b[0mline\u001b[0m\u001b[0;34m)\u001b[0m\u001b[0;34m\u001b[0m\u001b[0;34m\u001b[0m\u001b[0m\n",
      "\u001b[0;32m~/opt/anaconda3/lib/python3.9/site-packages/matplotlib/axes/_base.py\u001b[0m in \u001b[0;36m__call__\u001b[0;34m(self, data, *args, **kwargs)\u001b[0m\n\u001b[1;32m    313\u001b[0m                 \u001b[0mthis\u001b[0m \u001b[0;34m+=\u001b[0m \u001b[0margs\u001b[0m\u001b[0;34m[\u001b[0m\u001b[0;36m0\u001b[0m\u001b[0;34m]\u001b[0m\u001b[0;34m,\u001b[0m\u001b[0;34m\u001b[0m\u001b[0;34m\u001b[0m\u001b[0m\n\u001b[1;32m    314\u001b[0m                 \u001b[0margs\u001b[0m \u001b[0;34m=\u001b[0m \u001b[0margs\u001b[0m\u001b[0;34m[\u001b[0m\u001b[0;36m1\u001b[0m\u001b[0;34m:\u001b[0m\u001b[0;34m]\u001b[0m\u001b[0;34m\u001b[0m\u001b[0;34m\u001b[0m\u001b[0m\n\u001b[0;32m--> 315\u001b[0;31m             \u001b[0;32myield\u001b[0m \u001b[0;32mfrom\u001b[0m \u001b[0mself\u001b[0m\u001b[0;34m.\u001b[0m\u001b[0m_plot_args\u001b[0m\u001b[0;34m(\u001b[0m\u001b[0mthis\u001b[0m\u001b[0;34m,\u001b[0m \u001b[0mkwargs\u001b[0m\u001b[0;34m)\u001b[0m\u001b[0;34m\u001b[0m\u001b[0;34m\u001b[0m\u001b[0m\n\u001b[0m\u001b[1;32m    316\u001b[0m \u001b[0;34m\u001b[0m\u001b[0m\n\u001b[1;32m    317\u001b[0m     \u001b[0;32mdef\u001b[0m \u001b[0mget_next_color\u001b[0m\u001b[0;34m(\u001b[0m\u001b[0mself\u001b[0m\u001b[0;34m)\u001b[0m\u001b[0;34m:\u001b[0m\u001b[0;34m\u001b[0m\u001b[0;34m\u001b[0m\u001b[0m\n",
      "\u001b[0;32m~/opt/anaconda3/lib/python3.9/site-packages/matplotlib/axes/_base.py\u001b[0m in \u001b[0;36m_plot_args\u001b[0;34m(self, tup, kwargs, return_kwargs)\u001b[0m\n\u001b[1;32m    494\u001b[0m \u001b[0;34m\u001b[0m\u001b[0m\n\u001b[1;32m    495\u001b[0m         \u001b[0;32mif\u001b[0m \u001b[0mself\u001b[0m\u001b[0;34m.\u001b[0m\u001b[0maxes\u001b[0m\u001b[0;34m.\u001b[0m\u001b[0mxaxis\u001b[0m \u001b[0;32mis\u001b[0m \u001b[0;32mnot\u001b[0m \u001b[0;32mNone\u001b[0m\u001b[0;34m:\u001b[0m\u001b[0;34m\u001b[0m\u001b[0;34m\u001b[0m\u001b[0m\n\u001b[0;32m--> 496\u001b[0;31m             \u001b[0mself\u001b[0m\u001b[0;34m.\u001b[0m\u001b[0maxes\u001b[0m\u001b[0;34m.\u001b[0m\u001b[0mxaxis\u001b[0m\u001b[0;34m.\u001b[0m\u001b[0mupdate_units\u001b[0m\u001b[0;34m(\u001b[0m\u001b[0mx\u001b[0m\u001b[0;34m)\u001b[0m\u001b[0;34m\u001b[0m\u001b[0;34m\u001b[0m\u001b[0m\n\u001b[0m\u001b[1;32m    497\u001b[0m         \u001b[0;32mif\u001b[0m \u001b[0mself\u001b[0m\u001b[0;34m.\u001b[0m\u001b[0maxes\u001b[0m\u001b[0;34m.\u001b[0m\u001b[0myaxis\u001b[0m \u001b[0;32mis\u001b[0m \u001b[0;32mnot\u001b[0m \u001b[0;32mNone\u001b[0m\u001b[0;34m:\u001b[0m\u001b[0;34m\u001b[0m\u001b[0;34m\u001b[0m\u001b[0m\n\u001b[1;32m    498\u001b[0m             \u001b[0mself\u001b[0m\u001b[0;34m.\u001b[0m\u001b[0maxes\u001b[0m\u001b[0;34m.\u001b[0m\u001b[0myaxis\u001b[0m\u001b[0;34m.\u001b[0m\u001b[0mupdate_units\u001b[0m\u001b[0;34m(\u001b[0m\u001b[0my\u001b[0m\u001b[0;34m)\u001b[0m\u001b[0;34m\u001b[0m\u001b[0;34m\u001b[0m\u001b[0m\n",
      "\u001b[0;32m~/opt/anaconda3/lib/python3.9/site-packages/matplotlib/axis.py\u001b[0m in \u001b[0;36mupdate_units\u001b[0;34m(self, data)\u001b[0m\n\u001b[1;32m   1446\u001b[0m         \u001b[0mneednew\u001b[0m \u001b[0;34m=\u001b[0m \u001b[0mself\u001b[0m\u001b[0;34m.\u001b[0m\u001b[0mconverter\u001b[0m \u001b[0;34m!=\u001b[0m \u001b[0mconverter\u001b[0m\u001b[0;34m\u001b[0m\u001b[0;34m\u001b[0m\u001b[0m\n\u001b[1;32m   1447\u001b[0m         \u001b[0mself\u001b[0m\u001b[0;34m.\u001b[0m\u001b[0mconverter\u001b[0m \u001b[0;34m=\u001b[0m \u001b[0mconverter\u001b[0m\u001b[0;34m\u001b[0m\u001b[0;34m\u001b[0m\u001b[0m\n\u001b[0;32m-> 1448\u001b[0;31m         \u001b[0mdefault\u001b[0m \u001b[0;34m=\u001b[0m \u001b[0mself\u001b[0m\u001b[0;34m.\u001b[0m\u001b[0mconverter\u001b[0m\u001b[0;34m.\u001b[0m\u001b[0mdefault_units\u001b[0m\u001b[0;34m(\u001b[0m\u001b[0mdata\u001b[0m\u001b[0;34m,\u001b[0m \u001b[0mself\u001b[0m\u001b[0;34m)\u001b[0m\u001b[0;34m\u001b[0m\u001b[0;34m\u001b[0m\u001b[0m\n\u001b[0m\u001b[1;32m   1449\u001b[0m         \u001b[0;32mif\u001b[0m \u001b[0mdefault\u001b[0m \u001b[0;32mis\u001b[0m \u001b[0;32mnot\u001b[0m \u001b[0;32mNone\u001b[0m \u001b[0;32mand\u001b[0m \u001b[0mself\u001b[0m\u001b[0;34m.\u001b[0m\u001b[0munits\u001b[0m \u001b[0;32mis\u001b[0m \u001b[0;32mNone\u001b[0m\u001b[0;34m:\u001b[0m\u001b[0;34m\u001b[0m\u001b[0;34m\u001b[0m\u001b[0m\n\u001b[1;32m   1450\u001b[0m             \u001b[0mself\u001b[0m\u001b[0;34m.\u001b[0m\u001b[0mset_units\u001b[0m\u001b[0;34m(\u001b[0m\u001b[0mdefault\u001b[0m\u001b[0;34m)\u001b[0m\u001b[0;34m\u001b[0m\u001b[0;34m\u001b[0m\u001b[0m\n",
      "\u001b[0;32m~/opt/anaconda3/lib/python3.9/site-packages/matplotlib/category.py\u001b[0m in \u001b[0;36mdefault_units\u001b[0;34m(data, axis)\u001b[0m\n\u001b[1;32m    107\u001b[0m         \u001b[0;31m# the conversion call stack is default_units -> axis_info -> convert\u001b[0m\u001b[0;34m\u001b[0m\u001b[0;34m\u001b[0m\u001b[0m\n\u001b[1;32m    108\u001b[0m         \u001b[0;32mif\u001b[0m \u001b[0maxis\u001b[0m\u001b[0;34m.\u001b[0m\u001b[0munits\u001b[0m \u001b[0;32mis\u001b[0m \u001b[0;32mNone\u001b[0m\u001b[0;34m:\u001b[0m\u001b[0;34m\u001b[0m\u001b[0;34m\u001b[0m\u001b[0m\n\u001b[0;32m--> 109\u001b[0;31m             \u001b[0maxis\u001b[0m\u001b[0;34m.\u001b[0m\u001b[0mset_units\u001b[0m\u001b[0;34m(\u001b[0m\u001b[0mUnitData\u001b[0m\u001b[0;34m(\u001b[0m\u001b[0mdata\u001b[0m\u001b[0;34m)\u001b[0m\u001b[0;34m)\u001b[0m\u001b[0;34m\u001b[0m\u001b[0;34m\u001b[0m\u001b[0m\n\u001b[0m\u001b[1;32m    110\u001b[0m         \u001b[0;32melse\u001b[0m\u001b[0;34m:\u001b[0m\u001b[0;34m\u001b[0m\u001b[0;34m\u001b[0m\u001b[0m\n\u001b[1;32m    111\u001b[0m             \u001b[0maxis\u001b[0m\u001b[0;34m.\u001b[0m\u001b[0munits\u001b[0m\u001b[0;34m.\u001b[0m\u001b[0mupdate\u001b[0m\u001b[0;34m(\u001b[0m\u001b[0mdata\u001b[0m\u001b[0;34m)\u001b[0m\u001b[0;34m\u001b[0m\u001b[0;34m\u001b[0m\u001b[0m\n",
      "\u001b[0;32m~/opt/anaconda3/lib/python3.9/site-packages/matplotlib/category.py\u001b[0m in \u001b[0;36m__init__\u001b[0;34m(self, data)\u001b[0m\n\u001b[1;32m    183\u001b[0m         \u001b[0mself\u001b[0m\u001b[0;34m.\u001b[0m\u001b[0m_counter\u001b[0m \u001b[0;34m=\u001b[0m \u001b[0mitertools\u001b[0m\u001b[0;34m.\u001b[0m\u001b[0mcount\u001b[0m\u001b[0;34m(\u001b[0m\u001b[0;34m)\u001b[0m\u001b[0;34m\u001b[0m\u001b[0;34m\u001b[0m\u001b[0m\n\u001b[1;32m    184\u001b[0m         \u001b[0;32mif\u001b[0m \u001b[0mdata\u001b[0m \u001b[0;32mis\u001b[0m \u001b[0;32mnot\u001b[0m \u001b[0;32mNone\u001b[0m\u001b[0;34m:\u001b[0m\u001b[0;34m\u001b[0m\u001b[0;34m\u001b[0m\u001b[0m\n\u001b[0;32m--> 185\u001b[0;31m             \u001b[0mself\u001b[0m\u001b[0;34m.\u001b[0m\u001b[0mupdate\u001b[0m\u001b[0;34m(\u001b[0m\u001b[0mdata\u001b[0m\u001b[0;34m)\u001b[0m\u001b[0;34m\u001b[0m\u001b[0;34m\u001b[0m\u001b[0m\n\u001b[0m\u001b[1;32m    186\u001b[0m \u001b[0;34m\u001b[0m\u001b[0m\n\u001b[1;32m    187\u001b[0m     \u001b[0;34m@\u001b[0m\u001b[0mstaticmethod\u001b[0m\u001b[0;34m\u001b[0m\u001b[0;34m\u001b[0m\u001b[0m\n",
      "\u001b[0;32m~/opt/anaconda3/lib/python3.9/site-packages/matplotlib/category.py\u001b[0m in \u001b[0;36mupdate\u001b[0;34m(self, data)\u001b[0m\n\u001b[1;32m    218\u001b[0m         \u001b[0;32mfor\u001b[0m \u001b[0mval\u001b[0m \u001b[0;32min\u001b[0m \u001b[0mOrderedDict\u001b[0m\u001b[0;34m.\u001b[0m\u001b[0mfromkeys\u001b[0m\u001b[0;34m(\u001b[0m\u001b[0mdata\u001b[0m\u001b[0;34m)\u001b[0m\u001b[0;34m:\u001b[0m\u001b[0;34m\u001b[0m\u001b[0;34m\u001b[0m\u001b[0m\n\u001b[1;32m    219\u001b[0m             \u001b[0;31m# OrderedDict just iterates over unique values in data.\u001b[0m\u001b[0;34m\u001b[0m\u001b[0;34m\u001b[0m\u001b[0m\n\u001b[0;32m--> 220\u001b[0;31m             \u001b[0m_api\u001b[0m\u001b[0;34m.\u001b[0m\u001b[0mcheck_isinstance\u001b[0m\u001b[0;34m(\u001b[0m\u001b[0;34m(\u001b[0m\u001b[0mstr\u001b[0m\u001b[0;34m,\u001b[0m \u001b[0mbytes\u001b[0m\u001b[0;34m)\u001b[0m\u001b[0;34m,\u001b[0m \u001b[0mvalue\u001b[0m\u001b[0;34m=\u001b[0m\u001b[0mval\u001b[0m\u001b[0;34m)\u001b[0m\u001b[0;34m\u001b[0m\u001b[0;34m\u001b[0m\u001b[0m\n\u001b[0m\u001b[1;32m    221\u001b[0m             \u001b[0;32mif\u001b[0m \u001b[0mconvertible\u001b[0m\u001b[0;34m:\u001b[0m\u001b[0;34m\u001b[0m\u001b[0;34m\u001b[0m\u001b[0m\n\u001b[1;32m    222\u001b[0m                 \u001b[0;31m# this will only be called so long as convertible is True.\u001b[0m\u001b[0;34m\u001b[0m\u001b[0;34m\u001b[0m\u001b[0m\n",
      "\u001b[0;32m~/opt/anaconda3/lib/python3.9/site-packages/matplotlib/_api/__init__.py\u001b[0m in \u001b[0;36mcheck_isinstance\u001b[0;34m(_types, **kwargs)\u001b[0m\n\u001b[1;32m     90\u001b[0m                 \u001b[0mnames\u001b[0m\u001b[0;34m.\u001b[0m\u001b[0mremove\u001b[0m\u001b[0;34m(\u001b[0m\u001b[0;34m\"None\"\u001b[0m\u001b[0;34m)\u001b[0m\u001b[0;34m\u001b[0m\u001b[0;34m\u001b[0m\u001b[0m\n\u001b[1;32m     91\u001b[0m                 \u001b[0mnames\u001b[0m\u001b[0;34m.\u001b[0m\u001b[0mappend\u001b[0m\u001b[0;34m(\u001b[0m\u001b[0;34m\"None\"\u001b[0m\u001b[0;34m)\u001b[0m\u001b[0;34m\u001b[0m\u001b[0;34m\u001b[0m\u001b[0m\n\u001b[0;32m---> 92\u001b[0;31m             raise TypeError(\n\u001b[0m\u001b[1;32m     93\u001b[0m                 \"{!r} must be an instance of {}, not a {}\".format(\n\u001b[1;32m     94\u001b[0m                     \u001b[0mk\u001b[0m\u001b[0;34m,\u001b[0m\u001b[0;34m\u001b[0m\u001b[0;34m\u001b[0m\u001b[0m\n",
      "\u001b[0;31mTypeError\u001b[0m: 'value' must be an instance of str or bytes, not a float"
     ]
    },
    {
     "data": {
      "image/png": "[encoded data removed]",
      "text/plain": [
       "<Figure size 432x288 with 1 Axes>"
      ]
     },
     "metadata": {
      "needs_background": "light"
     },
     "output_type": "display_data"
    }
   ],
   "source": [
    "plt.hist"
   ]
  },
  {
   "cell_type": "code",
   "execution_count": 226,
   "id": "741fbdda-b136-4cc9-a3ef-c0cd6b323ddc",
   "metadata": {},
   "outputs": [
    {
     "data": {
      "image/png": "[encoded data removed]",
      "text/plain": [
       "<Figure size 432x288 with 1 Axes>"
      ]
     },
     "metadata": {
      "needs_background": "light"
     },
     "output_type": "display_data"
    }
   ],
   "source": [
    "(jobfactor/df_public.shape[0]).plot(kind=\"bar\")\n",
    "plt.title(\"Do you code as a Hobby\");"
   ]
  },
  {
   "cell_type": "code",
   "execution_count": 270,
   "id": "436da9a9-494a-473c-9742-336497166b1a",
   "metadata": {},
   "outputs": [
    {
     "data": {
      "image/png": "[encoded data removed]",
      "text/plain": [
       "<Figure size 432x288 with 1 Axes>"
      ]
     },
     "metadata": {
      "needs_background": "light"
     },
     "output_type": "display_data"
    }
   ],
   "source": [
    "mainbranch = df_public['MainBranch'].value_counts()\n",
    "(mainbranch/df_public.shape[0]).plot(kind=\"bar\")\n",
    "plt.title(\"What is your Main Branch\");"
   ]
  },
  {
   "cell_type": "code",
   "execution_count": 271,
   "id": "131773cc-6d9f-4ada-a0f2-4cb6648597f5",
   "metadata": {},
   "outputs": [
    {
     "data": {
      "image/png": "[encoded data removed]",
      "text/plain": [
       "<Figure size 432x288 with 1 Axes>"
      ]
     },
     "metadata": {
      "needs_background": "light"
     },
     "output_type": "display_data"
    }
   ],
   "source": [
    "edlevel = df_public['EdLevel'].value_counts()\n",
    "(edlevel/df_public.shape[0]).plot(kind=\"bar\")\n",
    "plt.title(\"Education Level\");"
   ]
  },
  {
   "cell_type": "code",
   "execution_count": 272,
   "id": "8147c9b1-63a7-435c-a64a-f8b99886058e",
   "metadata": {},
   "outputs": [
    {
     "data": {
      "text/plain": [
       "Bachelor’s degree (B.A., B.S., B.Eng., etc.)                                          26542\n",
       "Master’s degree (M.A., M.S., M.Eng., MBA, etc.)                                       13112\n",
       "Some college/university study without earning a degree                                 7239\n",
       "Secondary school (e.g. American high school, German Realschule or Gymnasium, etc.)     4771\n",
       "Associate degree (A.A., A.S., etc.)                                                    1843\n",
       "Other doctoral degree (Ph.D., Ed.D., etc.)                                             1690\n",
       "Primary/elementary school                                                               941\n",
       "Professional degree (JD, MD, etc.)                                                      800\n",
       "I never completed any formal education                                                  493\n",
       "Name: EdLevel, dtype: int64"
      ]
     },
     "execution_count": 272,
     "metadata": {},
     "output_type": "execute_result"
    }
   ],
   "source": [
    "df_public['EdLevel'].value_counts()"
   ]
  },
  {
   "cell_type": "code",
   "execution_count": 273,
   "id": "0409a890-ec61-4107-be1e-3e5fda51e239",
   "metadata": {},
   "outputs": [
    {
     "data": {
      "image/png": "[encoded data removed]",
      "text/plain": [
       "<Figure size 432x288 with 1 Axes>"
      ]
     },
     "metadata": {
      "needs_background": "light"
     },
     "output_type": "display_data"
    }
   ],
   "source": [
    "gender = df_public['Gender'].value_counts()\n",
    "(gender/df_public.shape[0]).plot(kind=\"bar\")\n",
    "plt.title(\"Gender\");"
   ]
  },
  {
   "cell_type": "code",
   "execution_count": null,
   "id": "72271eb1-68af-4124-92ac-3e32f036a6db",
   "metadata": {},
   "outputs": [],
   "source": []
  },
  {
   "cell_type": "code",
   "execution_count": 236,
   "id": "a6d8abab-3130-479e-8b05-791c12b82ea5",
   "metadata": {},
   "outputs": [
    {
     "data": {
      "text/html": [
       "<div>\n",
       "<style scoped>\n",
       "    .dataframe tbody tr th:only-of-type {\n",
       "        vertical-align: middle;\n",
       "    }\n",
       "\n",
       "    .dataframe tbody tr th {\n",
       "        vertical-align: top;\n",
       "    }\n",
       "\n",
       "    .dataframe thead th {\n",
       "        text-align: right;\n",
       "    }\n",
       "</style>\n",
       "<table border=\"1\" class=\"dataframe\">\n",
       "  <thead>\n",
       "    <tr style=\"text-align: right;\">\n",
       "      <th></th>\n",
       "      <th></th>\n",
       "      <th>WorkWeekHrs</th>\n",
       "    </tr>\n",
       "    <tr>\n",
       "      <th>Employment</th>\n",
       "      <th>JobSat</th>\n",
       "      <th></th>\n",
       "    </tr>\n",
       "  </thead>\n",
       "  <tbody>\n",
       "    <tr>\n",
       "      <th rowspan=\"5\" valign=\"top\">Employed full-time</th>\n",
       "      <th>Neither satisfied nor dissatisfied</th>\n",
       "      <td>40.603161</td>\n",
       "    </tr>\n",
       "    <tr>\n",
       "      <th>Slightly dissatisfied</th>\n",
       "      <td>41.448904</td>\n",
       "    </tr>\n",
       "    <tr>\n",
       "      <th>Slightly satisfied</th>\n",
       "      <td>41.180400</td>\n",
       "    </tr>\n",
       "    <tr>\n",
       "      <th>Very dissatisfied</th>\n",
       "      <td>41.605512</td>\n",
       "    </tr>\n",
       "    <tr>\n",
       "      <th>Very satisfied</th>\n",
       "      <td>41.016847</td>\n",
       "    </tr>\n",
       "    <tr>\n",
       "      <th rowspan=\"5\" valign=\"top\">Employed part-time</th>\n",
       "      <th>Neither satisfied nor dissatisfied</th>\n",
       "      <td>29.266949</td>\n",
       "    </tr>\n",
       "    <tr>\n",
       "      <th>Slightly dissatisfied</th>\n",
       "      <td>30.151389</td>\n",
       "    </tr>\n",
       "    <tr>\n",
       "      <th>Slightly satisfied</th>\n",
       "      <td>28.888194</td>\n",
       "    </tr>\n",
       "    <tr>\n",
       "      <th>Very dissatisfied</th>\n",
       "      <td>24.291667</td>\n",
       "    </tr>\n",
       "    <tr>\n",
       "      <th>Very satisfied</th>\n",
       "      <td>28.680240</td>\n",
       "    </tr>\n",
       "    <tr>\n",
       "      <th rowspan=\"5\" valign=\"top\">Independent contractor, freelancer, or self-employed</th>\n",
       "      <th>Neither satisfied nor dissatisfied</th>\n",
       "      <td>40.761755</td>\n",
       "    </tr>\n",
       "    <tr>\n",
       "      <th>Slightly dissatisfied</th>\n",
       "      <td>39.007987</td>\n",
       "    </tr>\n",
       "    <tr>\n",
       "      <th>Slightly satisfied</th>\n",
       "      <td>39.644429</td>\n",
       "    </tr>\n",
       "    <tr>\n",
       "      <th>Very dissatisfied</th>\n",
       "      <td>39.030864</td>\n",
       "    </tr>\n",
       "    <tr>\n",
       "      <th>Very satisfied</th>\n",
       "      <td>41.273232</td>\n",
       "    </tr>\n",
       "  </tbody>\n",
       "</table>\n",
       "</div>"
      ],
      "text/plain": [
       "                                                                                       WorkWeekHrs\n",
       "Employment                                         JobSat                                         \n",
       "Employed full-time                                 Neither satisfied nor dissatisfied    40.603161\n",
       "                                                   Slightly dissatisfied                 41.448904\n",
       "                                                   Slightly satisfied                    41.180400\n",
       "                                                   Very dissatisfied                     41.605512\n",
       "                                                   Very satisfied                        41.016847\n",
       "Employed part-time                                 Neither satisfied nor dissatisfied    29.266949\n",
       "                                                   Slightly dissatisfied                 30.151389\n",
       "                                                   Slightly satisfied                    28.888194\n",
       "                                                   Very dissatisfied                     24.291667\n",
       "                                                   Very satisfied                        28.680240\n",
       "Independent contractor, freelancer, or self-emp... Neither satisfied nor dissatisfied    40.761755\n",
       "                                                   Slightly dissatisfied                 39.007987\n",
       "                                                   Slightly satisfied                    39.644429\n",
       "                                                   Very dissatisfied                     39.030864\n",
       "                                                   Very satisfied                        41.273232"
      ]
     },
     "execution_count": 236,
     "metadata": {},
     "output_type": "execute_result"
    }
   ],
   "source": [
    "pd.DataFrame(df_public.query(\"JobSeek == 'I’m not actively looking, but I am open to new opportunities'\").groupby(['Employment', 'JobSat']).mean()['WorkWeekHrs'])"
   ]
  },
  {
   "cell_type": "markdown",
   "id": "b5606981-703e-42e1-8458-8cc5376d5802",
   "metadata": {},
   "source": [
    "***Below are some interesting graps ha ha ha ha***"
   ]
  },
  {
   "cell_type": "code",
   "execution_count": 275,
   "id": "60fab703-27f2-480c-9814-fd38f2f7bef0",
   "metadata": {},
   "outputs": [
    {
     "data": {
      "text/plain": [
       "<AxesSubplot:>"
      ]
     },
     "execution_count": 275,
     "metadata": {},
     "output_type": "execute_result"
    },
    {
     "data": {
      "image/png": "[encoded data removed]",
      "text/plain": [
       "<Figure size 432x288 with 2 Axes>"
      ]
     },
     "metadata": {
      "needs_background": "light"
     },
     "output_type": "display_data"
    }
   ],
   "source": [
    "sns.heatmap(df_public.corr(),annot=True,fmt=\".2f\")"
   ]
  },
  {
   "cell_type": "code",
   "execution_count": null,
   "id": "56e43201-64ac-43bd-9b8a-cb0752983b8e",
   "metadata": {},
   "outputs": [],
   "source": []
  },
  {
   "cell_type": "markdown",
   "id": "bdbe391f-bbec-4ea8-a2fd-e13fd7993948",
   "metadata": {},
   "source": [
    "**In line below we dropped all rows in which ConvertedComp column contains null value**"
   ]
  },
  {
   "cell_type": "code",
   "execution_count": 242,
   "id": "049255ae-fe6b-4438-b882-1481c5386aa7",
   "metadata": {},
   "outputs": [],
   "source": [
    "df_public_comp = df_public.dropna(subset = ['ConvertedComp'])"
   ]
  },
  {
   "cell_type": "markdown",
   "id": "6ca20fa3-39d7-4997-a051-a16433159318",
   "metadata": {},
   "source": [
    "**Dropped the respondent column because it did not contain useful information.**"
   ]
  },
  {
   "cell_type": "code",
   "execution_count": 243,
   "id": "c37c6c7f-801a-4090-8d5c-c31e63e89756",
   "metadata": {},
   "outputs": [],
   "source": [
    "df_public_comp = df_public_comp.drop(['Respondent','CompTotal'],axis=1)"
   ]
  },
  {
   "cell_type": "code",
   "execution_count": 244,
   "id": "bedd4db5-bdd2-4c1c-a52f-791041d7dc27",
   "metadata": {},
   "outputs": [
    {
     "data": {
      "text/plain": [
       "<AxesSubplot:>"
      ]
     },
     "execution_count": 244,
     "metadata": {},
     "output_type": "execute_result"
    },
    {
     "data": {
      "image/png": "[encoded data removed]",
      "text/plain": [
       "<Figure size 432x288 with 2 Axes>"
      ]
     },
     "metadata": {
      "needs_background": "light"
     },
     "output_type": "display_data"
    }
   ],
   "source": [
    "sns.heatmap(df_public_comp.corr(),annot=True,fmt=\".2f\")"
   ]
  },
  {
   "cell_type": "markdown",
   "id": "9fea30d8-e11f-49ea-9b78-6571c4913d80",
   "metadata": {},
   "source": [
    "**In code below, i dropped columns whose rows contain only null values**"
   ]
  },
  {
   "cell_type": "code",
   "execution_count": 245,
   "id": "91bddcb4-f6e0-442d-a17e-9f89d7914b8d",
   "metadata": {},
   "outputs": [],
   "source": [
    "df_public_comp = df_public_comp.dropna(how = 'all',axis=1)"
   ]
  },
  {
   "cell_type": "markdown",
   "id": "5f3c59f1-c450-4e8a-b32d-c7a8859dfca3",
   "metadata": {},
   "source": [
    "**Assigned y the variable we are trying to predict-in this case it is ConvertedComp**"
   ]
  },
  {
   "cell_type": "code",
   "execution_count": 246,
   "id": "0c3f6dbc-d859-4687-b7d1-69085af4177f",
   "metadata": {},
   "outputs": [],
   "source": [
    "y = df_public_comp['ConvertedComp']"
   ]
  },
  {
   "cell_type": "code",
   "execution_count": 247,
   "id": "2bd01ba3-b8ee-4677-82c2-f0119d94038b",
   "metadata": {},
   "outputs": [],
   "source": [
    "df_public_comp.YearsCode = df_public_comp.YearsCode.replace(to_replace=\"Less than 1 year\",value = '1')\n",
    "df_public_comp.YearsCode = df_public_comp.YearsCode.replace(to_replace=\"More than 50 years\",value = '50')\n",
    "df_public_comp.YearsCode = pd.to_numeric(df_public_comp.YearsCode)"
   ]
  },
  {
   "cell_type": "code",
   "execution_count": 248,
   "id": "0a0a135a-0be7-4875-8f4c-14f8aa17312b",
   "metadata": {},
   "outputs": [],
   "source": [
    "df_public_comp.YearsCodePro = df_public_comp.YearsCodePro.replace(to_replace=\"Less than 1 year\",value = '1')\n",
    "df_public_comp.YearsCodePro = df_public_comp.YearsCodePro.replace(to_replace=\"More than 50 years\",value = '50')\n",
    "df_public_comp.YearsCodePro = pd.to_numeric(df_public_comp.YearsCodePro)"
   ]
  },
  {
   "cell_type": "code",
   "execution_count": 249,
   "id": "ab5803f0-6b08-4d31-94d4-b2bf2e09eff2",
   "metadata": {},
   "outputs": [],
   "source": [
    "df_public_comp.Age1stCode = df_public_comp.Age1stCode.replace(to_replace=\"Younger than 5 years\",value = '5')\n",
    "df_public_comp.Age1stCode = df_public_comp.Age1stCode.replace(to_replace=\"Older than 85\",value = '85')\n",
    "df_public_comp.Age1stCode = pd.to_numeric(df_public_comp.Age1stCode)"
   ]
  },
  {
   "cell_type": "code",
   "execution_count": 250,
   "id": "fd9ca121-557e-4cd0-af4b-968aad1d546e",
   "metadata": {},
   "outputs": [
    {
     "data": {
      "text/html": [
       "<div>\n",
       "<style scoped>\n",
       "    .dataframe tbody tr th:only-of-type {\n",
       "        vertical-align: middle;\n",
       "    }\n",
       "\n",
       "    .dataframe tbody tr th {\n",
       "        vertical-align: top;\n",
       "    }\n",
       "\n",
       "    .dataframe thead th {\n",
       "        text-align: right;\n",
       "    }\n",
       "</style>\n",
       "<table border=\"1\" class=\"dataframe\">\n",
       "  <thead>\n",
       "    <tr style=\"text-align: right;\">\n",
       "      <th></th>\n",
       "      <th></th>\n",
       "      <th>YearsCode</th>\n",
       "    </tr>\n",
       "    <tr>\n",
       "      <th>Employment</th>\n",
       "      <th>JobSat</th>\n",
       "      <th></th>\n",
       "    </tr>\n",
       "  </thead>\n",
       "  <tbody>\n",
       "    <tr>\n",
       "      <th rowspan=\"5\" valign=\"top\">Employed full-time</th>\n",
       "      <th>Neither satisfied nor dissatisfied</th>\n",
       "      <td>13.280325</td>\n",
       "    </tr>\n",
       "    <tr>\n",
       "      <th>Slightly dissatisfied</th>\n",
       "      <td>14.215015</td>\n",
       "    </tr>\n",
       "    <tr>\n",
       "      <th>Slightly satisfied</th>\n",
       "      <td>13.630678</td>\n",
       "    </tr>\n",
       "    <tr>\n",
       "      <th>Very dissatisfied</th>\n",
       "      <td>14.307853</td>\n",
       "    </tr>\n",
       "    <tr>\n",
       "      <th>Very satisfied</th>\n",
       "      <td>14.461611</td>\n",
       "    </tr>\n",
       "    <tr>\n",
       "      <th rowspan=\"5\" valign=\"top\">Employed part-time</th>\n",
       "      <th>Neither satisfied nor dissatisfied</th>\n",
       "      <td>9.126316</td>\n",
       "    </tr>\n",
       "    <tr>\n",
       "      <th>Slightly dissatisfied</th>\n",
       "      <td>10.310924</td>\n",
       "    </tr>\n",
       "    <tr>\n",
       "      <th>Slightly satisfied</th>\n",
       "      <td>10.898734</td>\n",
       "    </tr>\n",
       "    <tr>\n",
       "      <th>Very dissatisfied</th>\n",
       "      <td>9.906250</td>\n",
       "    </tr>\n",
       "    <tr>\n",
       "      <th>Very satisfied</th>\n",
       "      <td>10.984496</td>\n",
       "    </tr>\n",
       "    <tr>\n",
       "      <th rowspan=\"5\" valign=\"top\">Independent contractor, freelancer, or self-employed</th>\n",
       "      <th>Neither satisfied nor dissatisfied</th>\n",
       "      <td>16.285714</td>\n",
       "    </tr>\n",
       "    <tr>\n",
       "      <th>Slightly dissatisfied</th>\n",
       "      <td>17.741573</td>\n",
       "    </tr>\n",
       "    <tr>\n",
       "      <th>Slightly satisfied</th>\n",
       "      <td>17.734513</td>\n",
       "    </tr>\n",
       "    <tr>\n",
       "      <th>Very dissatisfied</th>\n",
       "      <td>19.091603</td>\n",
       "    </tr>\n",
       "    <tr>\n",
       "      <th>Very satisfied</th>\n",
       "      <td>19.876122</td>\n",
       "    </tr>\n",
       "  </tbody>\n",
       "</table>\n",
       "</div>"
      ],
      "text/plain": [
       "                                                                                       YearsCode\n",
       "Employment                                         JobSat                                       \n",
       "Employed full-time                                 Neither satisfied nor dissatisfied  13.280325\n",
       "                                                   Slightly dissatisfied               14.215015\n",
       "                                                   Slightly satisfied                  13.630678\n",
       "                                                   Very dissatisfied                   14.307853\n",
       "                                                   Very satisfied                      14.461611\n",
       "Employed part-time                                 Neither satisfied nor dissatisfied   9.126316\n",
       "                                                   Slightly dissatisfied               10.310924\n",
       "                                                   Slightly satisfied                  10.898734\n",
       "                                                   Very dissatisfied                    9.906250\n",
       "                                                   Very satisfied                      10.984496\n",
       "Independent contractor, freelancer, or self-emp... Neither satisfied nor dissatisfied  16.285714\n",
       "                                                   Slightly dissatisfied               17.741573\n",
       "                                                   Slightly satisfied                  17.734513\n",
       "                                                   Very dissatisfied                   19.091603\n",
       "                                                   Very satisfied                      19.876122"
      ]
     },
     "execution_count": 250,
     "metadata": {},
     "output_type": "execute_result"
    }
   ],
   "source": [
    "pd.DataFrame(df_public_comp.query(\"JobSeek == 'I’m not actively looking, but I am open to new opportunities'\").groupby(['Employment', 'JobSat']).mean()['YearsCode'])"
   ]
  },
  {
   "cell_type": "markdown",
   "id": "bf23430e-aaf1-49f9-98a9-882db677e550",
   "metadata": {},
   "source": [
    "**Dropped column used in 'y' and assigned rest of the columns to X-columns which are factors which can affect the prediction**"
   ]
  },
  {
   "cell_type": "code",
   "execution_count": 188,
   "id": "b1edf77c-d35b-48ac-a912-d764148320a0",
   "metadata": {},
   "outputs": [],
   "source": [
    "X = df_public_comp.drop(['ConvertedComp'],axis = 1)"
   ]
  },
  {
   "cell_type": "code",
   "execution_count": 189,
   "id": "3f9c8640-5e08-4f29-85d7-0206fd180c3a",
   "metadata": {},
   "outputs": [
    {
     "name": "stdout",
     "output_type": "stream",
     "text": [
      "(34756, 58)\n"
     ]
    },
    {
     "data": {
      "text/plain": [
       "(34756, 35)"
      ]
     },
     "execution_count": 189,
     "metadata": {},
     "output_type": "execute_result"
    }
   ],
   "source": [
    "print(X.shape)\n",
    "X_cols_size = X.select_dtypes(include=['object']).copy().columns\n",
    "X_cols_dropped = []\n",
    "for col in X_cols_size:\n",
    "    if(len(list(X[col].value_counts().keys())) > 15):\n",
    "        X_cols_dropped.append((col,len(list(X[col].value_counts().keys())),X[col].dtype))\n",
    "        X = X.drop([col],axis=1)\n",
    "X.shape       "
   ]
  },
  {
   "cell_type": "code",
   "execution_count": 190,
   "id": "8acb2a24-7cb8-4438-ba6e-737d50ae0249",
   "metadata": {},
   "outputs": [
    {
     "data": {
      "text/plain": [
       "[('Country', 159, dtype('O')),\n",
       " ('CurrencyDesc', 128, dtype('O')),\n",
       " ('CurrencySymbol', 128, dtype('O')),\n",
       " ('DatabaseDesireNextYear', 2437, dtype('O')),\n",
       " ('DatabaseWorkedWith', 2334, dtype('O')),\n",
       " ('DevType', 6155, dtype('O')),\n",
       " ('Ethnicity', 147, dtype('O')),\n",
       " ('JobFactors', 227, dtype('O')),\n",
       " ('LanguageDesireNextYear', 10531, dtype('O')),\n",
       " ('LanguageWorkedWith', 9370, dtype('O')),\n",
       " ('MiscTechDesireNextYear', 3660, dtype('O')),\n",
       " ('MiscTechWorkedWith', 1935, dtype('O')),\n",
       " ('NEWCollabToolsDesireNextYear', 1052, dtype('O')),\n",
       " ('NEWCollabToolsWorkedWith', 999, dtype('O')),\n",
       " ('NEWJobHunt', 2029, dtype('O')),\n",
       " ('NEWJobHuntResearch', 63, dtype('O')),\n",
       " ('NEWPurchaseResearch', 62, dtype('O')),\n",
       " ('NEWSOSites', 49, dtype('O')),\n",
       " ('NEWStuck', 402, dtype('O')),\n",
       " ('PlatformDesireNextYear', 5265, dtype('O')),\n",
       " ('PlatformWorkedWith', 4717, dtype('O')),\n",
       " ('WebframeDesireNextYear', 2664, dtype('O')),\n",
       " ('WebframeWorkedWith', 2932, dtype('O'))]"
      ]
     },
     "execution_count": 190,
     "metadata": {},
     "output_type": "execute_result"
    }
   ],
   "source": [
    "add_cols = ['JobFactors','']"
   ]
  },
  {
   "cell_type": "markdown",
   "id": "8972d278-e454-4026-95ae-541d89d6a5df",
   "metadata": {},
   "source": [
    "**Filled null values in columns with 'float' or 'int' as their variable type**"
   ]
  },
  {
   "cell_type": "code",
   "execution_count": 191,
   "id": "43e98815-4052-4423-980e-d9c7e687f53d",
   "metadata": {},
   "outputs": [],
   "source": [
    "X_cols = X.select_dtypes(include = ['float','int']).columns\n",
    "X_cols\n",
    "for col in X_cols:\n",
    "    X[col].fillna(X[col].mean(),inplace = True)"
   ]
  },
  {
   "cell_type": "code",
   "execution_count": 294,
   "id": "bba64b35-77f4-498d-9a08-1f8e5f41fb61",
   "metadata": {},
   "outputs": [],
   "source": [
    "#X_cols_num = X.columns\n",
    "#counts = []\n",
    "#for col in X_cols_num:\n",
    "#    counts.append((col,X[col].value))\n",
    "#a= X.MainBranch.unique()"
   ]
  },
  {
   "cell_type": "markdown",
   "id": "30b0b72b-f3d4-482d-9525-e5d883e3b6a2",
   "metadata": {},
   "source": [
    "**In below lines, i have created dummy columns for columns with multiple values, this helps to use these variables for prediction. And also dropped the original variables**\n",
    "\n",
    "*After running the below code i realized i have to consider how many dummy columns i should consider from one column. The number of dummy columns have increased too much, introducing complexity, redundant columns, and many useless columns.*"
   ]
  },
  {
   "cell_type": "code",
   "execution_count": 196,
   "id": "8212092b-076a-4ff7-a808-e02024ec3ca1",
   "metadata": {},
   "outputs": [],
   "source": [
    "X_cols_2 = X.select_dtypes(include = ['object']).copy().columns\n",
    "for col in X_cols_2[:10]:\n",
    "    try:\n",
    "        X = pd.concat([X.drop(col,axis = 1), pd.get_dummies(X[col],prefix=col,prefix_sep='_',drop_first=True)],axis=1)\n",
    "    except:\n",
    "        continue"
   ]
  },
  {
   "cell_type": "code",
   "execution_count": null,
   "id": "37c02bd7-0d3a-4d45-8c85-a3c6dc9321b9",
   "metadata": {},
   "outputs": [],
   "source": []
  },
  {
   "cell_type": "markdown",
   "id": "69794d95-e365-4c4b-b6a4-c4b2abc34fcc",
   "metadata": {},
   "source": [
    "**Dividing data into train test split**"
   ]
  },
  {
   "cell_type": "code",
   "execution_count": 198,
   "id": "35bdc32b-5d58-4d74-a6db-235c0e0df877",
   "metadata": {},
   "outputs": [],
   "source": [
    "X_train, X_test, y_train, y_test = train_test_split(X, y, test_size=.40, random_state=42)"
   ]
  },
  {
   "cell_type": "code",
   "execution_count": 177,
   "id": "a9fcbc4e-0c79-4cb1-a750-c04e2631866d",
   "metadata": {},
   "outputs": [
    {
     "data": {
      "text/plain": [
       "((20853, 96), (20853,), (13903, 96), (13903,))"
      ]
     },
     "execution_count": 177,
     "metadata": {},
     "output_type": "execute_result"
    }
   ],
   "source": [
    "X_train.shape , y_train.shape , X_test.shape, y_test.shape"
   ]
  },
  {
   "cell_type": "code",
   "execution_count": 182,
   "id": "c9004f38-0857-43a4-9c6b-802203b01190",
   "metadata": {},
   "outputs": [],
   "source": [
    "lm_model = LinearRegression(normalize=True)"
   ]
  },
  {
   "cell_type": "code",
   "execution_count": 199,
   "id": "140801cb-4aee-439b-bb8f-61b5bd7c382b",
   "metadata": {},
   "outputs": [
    {
     "data": {
      "text/plain": [
       "0.14947742662503605"
      ]
     },
     "execution_count": 199,
     "metadata": {},
     "output_type": "execute_result"
    }
   ],
   "source": [
    "lm_model.fit(X_train,y_train)\n",
    "y_predict = lm_model.predict(X_test)\n",
    "r2_score(y_test,y_predict)"
   ]
  },
  {
   "cell_type": "code",
   "execution_count": 200,
   "id": "a5b28aca-689e-47ff-bd01-76062afdc07f",
   "metadata": {},
   "outputs": [
    {
     "data": {
      "text/plain": [
       "0.20031226450766115"
      ]
     },
     "execution_count": 200,
     "metadata": {},
     "output_type": "execute_result"
    }
   ],
   "source": [
    "y_train_preds = lm_model.predict(X_train)\n",
    "r2_score(y_train,y_train_preds)"
   ]
  },
  {
   "cell_type": "code",
   "execution_count": null,
   "id": "aa8a17a3-f695-4098-a3f4-d726f544437d",
   "metadata": {},
   "outputs": [],
   "source": []
  }
 ],
 "metadata": {
  "kernelspec": {
   "display_name": "Python 3 (ipykernel)",
   "language": "python",
   "name": "python3"
  },
  "language_info": {
   "codemirror_mode": {
    "name": "ipython",
    "version": 3
   },
   "file_extension": ".py",
   "mimetype": "text/x-python",
   "name": "python",
   "nbconvert_exporter": "python",
   "pygments_lexer": "ipython3",
   "version": "3.9.7"
  }
 },
 "nbformat": 4,
 "nbformat_minor": 5
}
